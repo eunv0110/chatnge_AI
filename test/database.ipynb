{
 "cells": [
  {
   "cell_type": "code",
   "execution_count": 1,
   "id": "24001a18",
   "metadata": {},
   "outputs": [
    {
     "name": "stdout",
     "output_type": "stream",
     "text": [
      "=== 테이블 목록 ===\n",
      "- _prisma_migrations\n",
      "- chat_messages\n",
      "- conversation_sessions\n",
      "- emotion_records\n",
      "- session_emotion_details\n",
      "- users\n",
      "- vector_memories\n"
     ]
    }
   ],
   "source": [
    "import psycopg2\n",
    "import os\n",
    "from dotenv import load_dotenv\n",
    "# .env 파일 로드\n",
    "load_dotenv()\n",
    "\n",
    "conn = psycopg2.connect(\n",
    "    host=os.getenv('DB_HOST'),\n",
    "    port=os.getenv('DB_PORT'),\n",
    "    database=os.getenv('DB_NAME'),\n",
    "    user=os.getenv('DB_USER'),\n",
    "    password=os.getenv('DB_PASSWORD')\n",
    ")\n",
    "cur = conn.cursor()\n",
    "\n",
    "# 모든 테이블 목록\n",
    "cur.execute(\"\"\"\n",
    "    SELECT table_name \n",
    "    FROM information_schema.tables \n",
    "    WHERE table_schema = 'public'\n",
    "    ORDER BY table_name;\n",
    "\"\"\")\n",
    "\n",
    "tables = cur.fetchall()\n",
    "print(\"=== 테이블 목록 ===\")\n",
    "for table in tables:\n",
    "    print(f\"- {table[0]}\")"
   ]
  },
  {
   "cell_type": "code",
   "execution_count": 2,
   "id": "ca210f76",
   "metadata": {},
   "outputs": [
    {
     "name": "stdout",
     "output_type": "stream",
     "text": [
      "\n",
      "=== _prisma_migrations 테이블 구조 ===\n",
      "컬럼: id, 타입: character varying, Null허용: NO, 기본값: None\n",
      "컬럼: checksum, 타입: character varying, Null허용: NO, 기본값: None\n",
      "컬럼: finished_at, 타입: timestamp with time zone, Null허용: YES, 기본값: None\n",
      "컬럼: migration_name, 타입: character varying, Null허용: NO, 기본값: None\n",
      "컬럼: logs, 타입: text, Null허용: YES, 기본값: None\n",
      "컬럼: rolled_back_at, 타입: timestamp with time zone, Null허용: YES, 기본값: None\n",
      "컬럼: started_at, 타입: timestamp with time zone, Null허용: NO, 기본값: now()\n",
      "컬럼: applied_steps_count, 타입: integer, Null허용: NO, 기본값: 0\n"
     ]
    }
   ],
   "source": [
    "# 특정 테이블의 컬럼 정보 (테이블명을 실제 테이블명으로 변경)\n",
    "table_name = \"_prisma_migrations\" # 실제 테이블명으로 변경\n",
    "\n",
    "cur.execute(\"\"\"\n",
    "    SELECT \n",
    "        column_name, \n",
    "        data_type, \n",
    "        is_nullable, \n",
    "        column_default\n",
    "    FROM information_schema.columns \n",
    "    WHERE table_name = %s \n",
    "    ORDER BY ordinal_position;\n",
    "\"\"\", (table_name,))\n",
    "\n",
    "columns = cur.fetchall()\n",
    "print(f\"\\n=== {table_name} 테이블 구조 ===\")\n",
    "for col in columns:\n",
    "    print(f\"컬럼: {col[0]}, 타입: {col[1]}, Null허용: {col[2]}, 기본값: {col[3]}\")"
   ]
  },
  {
   "cell_type": "code",
   "execution_count": 9,
   "id": "7e0c13c4",
   "metadata": {},
   "outputs": [
    {
     "name": "stdout",
     "output_type": "stream",
     "text": [
      "\n",
      "=== chat_messages 테이블 구조 ===\n",
      "컬럼: id, 타입: integer, Null허용: NO, 기본값: nextval('chat_messages_id_seq'::regclass)\n",
      "컬럼: userEmail, 타입: text, Null허용: NO, 기본값: None\n",
      "컬럼: role, 타입: USER-DEFINED, Null허용: NO, 기본값: None\n",
      "컬럼: content, 타입: text, Null허용: NO, 기본값: None\n",
      "컬럼: createdAt, 타입: timestamp without time zone, Null허용: NO, 기본값: CURRENT_TIMESTAMP\n",
      "컬럼: updatedAt, 타입: timestamp without time zone, Null허용: NO, 기본값: None\n",
      "컬럼: date, 타입: timestamp without time zone, Null허용: NO, 기본값: None\n"
     ]
    }
   ],
   "source": [
    "# 특정 테이블의 컬럼 정보 (테이블명을 실제 테이블명으로 변경)\n",
    "table_name = \"chat_messages\" # 실제 테이블명으로 변경\n",
    "\n",
    "cur.execute(\"\"\"\n",
    "    SELECT \n",
    "        column_name, \n",
    "        data_type, \n",
    "        is_nullable, \n",
    "        column_default\n",
    "    FROM information_schema.columns \n",
    "    WHERE table_name = %s \n",
    "    ORDER BY ordinal_position;\n",
    "\"\"\", (table_name,))\n",
    "\n",
    "columns = cur.fetchall()\n",
    "print(f\"\\n=== {table_name} 테이블 구조 ===\")\n",
    "for col in columns:\n",
    "    print(f\"컬럼: {col[0]}, 타입: {col[1]}, Null허용: {col[2]}, 기본값: {col[3]}\")"
   ]
  },
  {
   "cell_type": "code",
   "execution_count": 3,
   "id": "cf7cb817",
   "metadata": {},
   "outputs": [
    {
     "name": "stdout",
     "output_type": "stream",
     "text": [
      "\n",
      "=== emotion_records 테이블 구조 ===\n",
      "컬럼: id, 타입: integer, Null허용: NO, 기본값: nextval('emotion_records_id_seq'::regclass)\n",
      "컬럼: userEmail, 타입: text, Null허용: NO, 기본값: None\n",
      "컬럼: date, 타입: timestamp without time zone, Null허용: NO, 기본값: None\n",
      "컬럼: emotion, 타입: text, Null허용: NO, 기본값: None\n",
      "컬럼: reason, 타입: text, Null허용: NO, 기본값: None\n",
      "컬럼: feeling, 타입: text, Null허용: NO, 기본값: None\n",
      "컬럼: detailedEmotions, 타입: ARRAY, Null허용: YES, 기본값: ARRAY[]::text[]\n",
      "컬럼: aiSummary, 타입: text, Null허용: YES, 기본값: None\n",
      "컬럼: createdAt, 타입: timestamp without time zone, Null허용: NO, 기본값: CURRENT_TIMESTAMP\n",
      "컬럼: updatedAt, 타입: timestamp without time zone, Null허용: NO, 기본값: None\n",
      "컬럼: oneLineRecord, 타입: text, Null허용: NO, 기본값: None\n"
     ]
    }
   ],
   "source": [
    "# 특정 테이블의 컬럼 정보 (테이블명을 실제 테이블명으로 변경)\n",
    "table_name = \"emotion_records\" # 실제 테이블명으로 변경\n",
    "\n",
    "cur.execute(\"\"\"\n",
    "    SELECT \n",
    "        column_name, \n",
    "        data_type, \n",
    "        is_nullable, \n",
    "        column_default\n",
    "    FROM information_schema.columns \n",
    "    WHERE table_name = %s \n",
    "    ORDER BY ordinal_position;\n",
    "\"\"\", (table_name,))\n",
    "\n",
    "columns = cur.fetchall()\n",
    "print(f\"\\n=== {table_name} 테이블 구조 ===\")\n",
    "for col in columns:\n",
    "    print(f\"컬럼: {col[0]}, 타입: {col[1]}, Null허용: {col[2]}, 기본값: {col[3]}\")"
   ]
  },
  {
   "cell_type": "code",
   "execution_count": 4,
   "id": "0310f461",
   "metadata": {},
   "outputs": [
    {
     "name": "stdout",
     "output_type": "stream",
     "text": [
      "\n",
      "=== users 테이블 구조 ===\n",
      "컬럼: email, 타입: text, Null허용: NO, 기본값: None\n",
      "컬럼: instance_id, 타입: uuid, Null허용: YES, 기본값: None\n",
      "컬럼: id, 타입: uuid, Null허용: NO, 기본값: None\n",
      "컬럼: name, 타입: text, Null허용: NO, 기본값: None\n",
      "컬럼: aud, 타입: character varying, Null허용: YES, 기본값: None\n",
      "컬럼: nickname, 타입: text, Null허용: YES, 기본값: None\n",
      "컬럼: password, 타입: text, Null허용: NO, 기본값: None\n",
      "컬럼: role, 타입: character varying, Null허용: YES, 기본값: None\n",
      "컬럼: birthdate, 타입: timestamp without time zone, Null허용: NO, 기본값: None\n",
      "컬럼: email, 타입: character varying, Null허용: YES, 기본값: None\n",
      "컬럼: encrypted_password, 타입: character varying, Null허용: YES, 기본값: None\n",
      "컬럼: motivation, 타입: ARRAY, Null허용: YES, 기본값: ARRAY[]::text[]\n",
      "컬럼: status, 타입: text, Null허용: YES, 기본값: None\n",
      "컬럼: email_confirmed_at, 타입: timestamp with time zone, Null허용: YES, 기본값: None\n",
      "컬럼: invited_at, 타입: timestamp with time zone, Null허용: YES, 기본값: None\n",
      "컬럼: medicationStatus, 타입: text, Null허용: NO, 기본값: 'UNKNOWN'::text\n",
      "컬럼: confirmation_token, 타입: character varying, Null허용: YES, 기본값: None\n",
      "컬럼: createdAt, 타입: timestamp without time zone, Null허용: NO, 기본값: CURRENT_TIMESTAMP\n",
      "컬럼: updatedAt, 타입: timestamp without time zone, Null허용: NO, 기본값: None\n",
      "컬럼: confirmation_sent_at, 타입: timestamp with time zone, Null허용: YES, 기본값: None\n",
      "컬럼: recovery_token, 타입: character varying, Null허용: YES, 기본값: None\n",
      "컬럼: recovery_sent_at, 타입: timestamp with time zone, Null허용: YES, 기본값: None\n",
      "컬럼: email_change_token_new, 타입: character varying, Null허용: YES, 기본값: None\n",
      "컬럼: email_change, 타입: character varying, Null허용: YES, 기본값: None\n",
      "컬럼: email_change_sent_at, 타입: timestamp with time zone, Null허용: YES, 기본값: None\n",
      "컬럼: last_sign_in_at, 타입: timestamp with time zone, Null허용: YES, 기본값: None\n",
      "컬럼: raw_app_meta_data, 타입: jsonb, Null허용: YES, 기본값: None\n",
      "컬럼: raw_user_meta_data, 타입: jsonb, Null허용: YES, 기본값: None\n",
      "컬럼: is_super_admin, 타입: boolean, Null허용: YES, 기본값: None\n",
      "컬럼: created_at, 타입: timestamp with time zone, Null허용: YES, 기본값: None\n",
      "컬럼: updated_at, 타입: timestamp with time zone, Null허용: YES, 기본값: None\n",
      "컬럼: phone, 타입: text, Null허용: YES, 기본값: NULL::character varying\n",
      "컬럼: phone_confirmed_at, 타입: timestamp with time zone, Null허용: YES, 기본값: None\n",
      "컬럼: phone_change, 타입: text, Null허용: YES, 기본값: ''::character varying\n",
      "컬럼: phone_change_token, 타입: character varying, Null허용: YES, 기본값: ''::character varying\n",
      "컬럼: phone_change_sent_at, 타입: timestamp with time zone, Null허용: YES, 기본값: None\n",
      "컬럼: confirmed_at, 타입: timestamp with time zone, Null허용: YES, 기본값: None\n",
      "컬럼: email_change_token_current, 타입: character varying, Null허용: YES, 기본값: ''::character varying\n",
      "컬럼: email_change_confirm_status, 타입: smallint, Null허용: YES, 기본값: 0\n",
      "컬럼: banned_until, 타입: timestamp with time zone, Null허용: YES, 기본값: None\n",
      "컬럼: reauthentication_token, 타입: character varying, Null허용: YES, 기본값: ''::character varying\n",
      "컬럼: reauthentication_sent_at, 타입: timestamp with time zone, Null허용: YES, 기본값: None\n",
      "컬럼: is_sso_user, 타입: boolean, Null허용: NO, 기본값: false\n",
      "컬럼: deleted_at, 타입: timestamp with time zone, Null허용: YES, 기본값: None\n",
      "컬럼: is_anonymous, 타입: boolean, Null허용: NO, 기본값: false\n"
     ]
    }
   ],
   "source": [
    "# 특정 테이블의 컬럼 정보 (테이블명을 실제 테이블명으로 변경)\n",
    "table_name = \"users\" # 실제 테이블명으로 변경\n",
    "\n",
    "cur.execute(\"\"\"\n",
    "    SELECT \n",
    "        column_name, \n",
    "        data_type, \n",
    "        is_nullable, \n",
    "        column_default\n",
    "    FROM information_schema.columns \n",
    "    WHERE table_name = %s \n",
    "    ORDER BY ordinal_position;\n",
    "\"\"\", (table_name,))\n",
    "\n",
    "columns = cur.fetchall()\n",
    "print(f\"\\n=== {table_name} 테이블 구조 ===\")\n",
    "for col in columns:\n",
    "    print(f\"컬럼: {col[0]}, 타입: {col[1]}, Null허용: {col[2]}, 기본값: {col[3]}\")"
   ]
  }
 ],
 "metadata": {
  "kernelspec": {
   "display_name": "chatnge-ai-rActT2Je-py3.11",
   "language": "python",
   "name": "python3"
  },
  "language_info": {
   "codemirror_mode": {
    "name": "ipython",
    "version": 3
   },
   "file_extension": ".py",
   "mimetype": "text/x-python",
   "name": "python",
   "nbconvert_exporter": "python",
   "pygments_lexer": "ipython3",
   "version": "3.11.12"
  }
 },
 "nbformat": 4,
 "nbformat_minor": 5
}
